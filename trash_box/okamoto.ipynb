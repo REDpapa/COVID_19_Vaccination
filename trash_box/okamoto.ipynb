{
 "cells": [
  {
   "cell_type": "code",
   "execution_count": 1,
   "metadata": {},
   "outputs": [],
   "source": [
    "from bs4 import BeautifulSoup\n",
    "import requests\n",
    "import pandas as pd"
   ]
  },
  {
   "cell_type": "code",
   "execution_count": 2,
   "metadata": {},
   "outputs": [],
   "source": [
    "import openpyxl\n",
    "from openpyxl.chart import BarChart,Reference\n",
    "from datetime import datetime as dt"
   ]
  },
  {
   "cell_type": "code",
   "execution_count": 3,
   "metadata": {},
   "outputs": [],
   "source": [
    "# アクセスするULRを指定する\n",
    "url = \"https://kantei.go.jp/jp/headline/kansensho/vaccine.html\"\n",
    "r = requests.get(url)"
   ]
  },
  {
   "cell_type": "code",
   "execution_count": 4,
   "metadata": {},
   "outputs": [],
   "source": [
    "# 文字化けが酷いのでエンコードします。\n",
    "r.encoding = r.apparent_encoding\n",
    "\n",
    "# 引数に'lxml'を指定(なぜ必要かは、忘れちゃったww許して!!)\n",
    "soup = BeautifulSoup(r.text, 'lxml')"
   ]
  },
  {
   "cell_type": "code",
   "execution_count": 5,
   "metadata": {},
   "outputs": [
    {
     "output_type": "stream",
     "name": "stdout",
     "text": [
      "https://kantei.go.jp/jp/content/KOREI-vaccination_data3.xlsx\n"
     ]
    }
   ],
   "source": [
    "# soup.select(\"p.aly_tx_center > a\")でcssのクラス指定後にaタグを取得\n",
    "# NOTE:例としてリストで吐き出さるので[0]を指定して開いてます。\n",
    "#　　　ここを工夫して取れるといけるかもです!!\n",
    "a_text = soup.select(\"p.aly_tx_center > a\")[0]\n",
    "link = a_text.get(\"href\")\n",
    "xlsx_link = f'https://kantei.go.jp{link}'\n",
    "print(xlsx_link)"
   ]
  },
  {
   "cell_type": "code",
   "execution_count": 6,
   "metadata": {},
   "outputs": [],
   "source": [
    "# web scraping でお世話になっている requests モジュール、使います!\n",
    "import requests\n",
    "# papa サン提供の url を get します!\n",
    "response = requests.get(xlsx_link)\n",
    "# response.content に get したファイルが入っているので、保存します!\n",
    "# NOTE: w は「ファイルに書き込む」、という意味ですよー。\n",
    "#       b は「そのファイルはバイナリです」、という意味ですよー。\n",
    "#       xlsx ファイルはバイナリで書いてあるので、そうしないといけないんです。\n",
    "with open('input.xlsx', 'wb') as saveFile:\n",
    "    saveFile.write(response.content)"
   ]
  },
  {
   "cell_type": "code",
   "execution_count": 7,
   "metadata": {},
   "outputs": [],
   "source": [
    "# webサイトから読み出したexcelファイルを読み出してくる。\n",
    "wb = openpyxl.load_workbook(filename='input.xlsx')\n",
    "# シートの先頭を指定\n",
    "sheet_name = wb.sheetnames[0]\n",
    "ws = wb[sheet_name]\n",
    "# エクセル表の最終のセルの位置を取得する。\n",
    "# NOTE: 取得したエクセルファイルの表形式の部分は最終行の'-3'の位置\n",
    "ws_max_row = ws.max_row - 3\n",
    "\n",
    "# 7行目のA〜Kまでのデータを取得\n",
    "# NOTE: 変数rengはタプル型で出力される。\n",
    "remgs = ws[f'A7:K{ws_max_row}']"
   ]
  },
  {
   "cell_type": "code",
   "execution_count": 8,
   "metadata": {},
   "outputs": [],
   "source": [
    "# リストを定義\n",
    "cell_a = []\n",
    "cell_other = []\n",
    "\n",
    "# 1行ずつ値を取得していく。\n",
    "for remg_list in remgs:\n",
    "    vals = []\n",
    "    vals = [c.value for c in remg_list]\n",
    "    a_cell_date_data = dt.strftime(vals[0], '%Y/%m/%d')\n",
    "    cell_other_data = vals[3:11]\n",
    "    # cellデータとするため、appendにて追加していく。\n",
    "    cell_a.append(a_cell_date_data)\n",
    "    cell_other.append(cell_other_data)"
   ]
  },
  {
   "cell_type": "code",
   "execution_count": 9,
   "metadata": {},
   "outputs": [],
   "source": [
    "# 新しいシートを作成\n",
    "new_ws = wb.create_sheet('edit_sheet')"
   ]
  },
  {
   "cell_type": "code",
   "execution_count": 10,
   "metadata": {},
   "outputs": [],
   "source": [
    "# 項目名を入力していく\n",
    "new_ws.merge_cells('A1:A3')\n",
    "new_ws['A1'] = '接種日'\n",
    "new_ws.merge_cells('B1:E1')\n",
    "new_ws['B1'] = 'すべて'\n",
    "new_ws.merge_cells('F1:I1')\n",
    "new_ws['F1'] = '高齢者'\n",
    "new_ws.merge_cells('B2:C2')\n",
    "new_ws.merge_cells('F2:G2')\n",
    "new_ws['B2'] = new_ws['F2'] = '内1回目'\n",
    "new_ws.merge_cells('D2:E2')\n",
    "new_ws.merge_cells('H2:I2')\n",
    "new_ws['D2'] = new_ws['H2'] = '内2回目'\n",
    "new_ws['B3'] = new_ws['D3'] = new_ws['F3'] = new_ws['H3'] = 'ファイザー社'\n",
    "new_ws['C3'] = new_ws['E3'] = new_ws['G3'] = new_ws['I3'] = '武田/モデルナ社'"
   ]
  },
  {
   "cell_type": "code",
   "execution_count": 11,
   "metadata": {},
   "outputs": [],
   "source": [
    "# cellデータを１つにするためにcell_aを先頭に追加する。\n",
    "for i in range(len(cell_other)):\n",
    "    cell_other[i].insert(0,cell_a[i])"
   ]
  },
  {
   "cell_type": "code",
   "execution_count": 12,
   "metadata": {},
   "outputs": [],
   "source": [
    "# cellの最終行と接種データの総数を加算\n",
    "cell_max_range = new_ws.max_row + len(cell_other)"
   ]
  },
  {
   "cell_type": "code",
   "execution_count": 13,
   "metadata": {},
   "outputs": [],
   "source": [
    "# 書き込むセルの範囲を算出。\n",
    "writing_range = f'A4:J{cell_max_range}'\n",
    "cell_writing_range = new_ws[writing_range]"
   ]
  },
  {
   "cell_type": "code",
   "execution_count": 14,
   "metadata": {},
   "outputs": [],
   "source": [
    "# 書き込み範囲のセルにデータを書き込む\n",
    "for _i in range(len(cell_other)):\n",
    "    for cell,val in zip(cell_writing_range[_i],cell_other[_i]):\n",
    "        cell.value=val"
   ]
  },
  {
   "cell_type": "code",
   "execution_count": 17,
   "metadata": {},
   "outputs": [],
   "source": [
    "# グラフの描画\n",
    "data = Reference(\n",
    "    new_ws,\n",
    "    min_col=2,\n",
    "    min_row=4,\n",
    "    max_col=5,\n",
    "    max_row=new_ws.max_row,\n",
    ")\n",
    "\n",
    "x = Reference(\n",
    "    new_ws,\n",
    "    min_col=1,\n",
    "    min_row=4,\n",
    "    max_col=1,\n",
    "    max_row=new_ws.max_row,\n",
    ")"
   ]
  },
  {
   "cell_type": "code",
   "execution_count": 20,
   "metadata": {},
   "outputs": [],
   "source": [
    "# 新しいシートを作成\n",
    "graph_ws = wb.create_sheet('graph_sheet')"
   ]
  },
  {
   "cell_type": "code",
   "execution_count": 21,
   "metadata": {},
   "outputs": [],
   "source": [
    "chart = BarChart()\n",
    "chart.add_data(data)\n",
    "chart.set_categories(x)\n",
    "graph_ws.add_chart(chart, \"A1\")"
   ]
  },
  {
   "cell_type": "code",
   "execution_count": 22,
   "metadata": {},
   "outputs": [],
   "source": [
    "# 現在ファイルとして保存\n",
    "wb.save('input.xlsx')"
   ]
  },
  {
   "cell_type": "code",
   "execution_count": null,
   "metadata": {},
   "outputs": [],
   "source": []
  }
 ],
 "metadata": {
  "kernelspec": {
   "name": "python3",
   "display_name": "Python 3.8.3 64-bit ('base': conda)"
  },
  "language_info": {
   "codemirror_mode": {
    "name": "ipython",
    "version": 3
   },
   "file_extension": ".py",
   "mimetype": "text/x-python",
   "name": "python",
   "nbconvert_exporter": "python",
   "pygments_lexer": "ipython3",
   "version": "3.8.3"
  },
  "interpreter": {
   "hash": "dca0ade3e726a953b501b15e8e990130d2b7799f14cfd9f4271676035ebe5511"
  }
 },
 "nbformat": 4,
 "nbformat_minor": 4
}